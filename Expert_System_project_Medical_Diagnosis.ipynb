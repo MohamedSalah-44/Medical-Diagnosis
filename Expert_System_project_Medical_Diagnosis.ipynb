{
  "cells": [
    {
      "cell_type": "markdown",
      "metadata": {
        "id": "03uPwqmlR-iz"
      },
      "source": [
        "Importing Libraries\n"
      ]
    },
    {
      "cell_type": "code",
      "execution_count": 1,
      "metadata": {
        "id": "be2PYSzWS9A8"
      },
      "outputs": [
        {
          "name": "stdout",
          "output_type": "stream",
          "text": [
            "WARNING:tensorflow:From c:\\Users\\SCH 2\\AppData\\Local\\Programs\\Python\\Python311\\Lib\\site-packages\\keras\\src\\losses.py:2976: The name tf.losses.sparse_softmax_cross_entropy is deprecated. Please use tf.compat.v1.losses.sparse_softmax_cross_entropy instead.\n",
            "\n"
          ]
        }
      ],
      "source": [
        "import pandas as pd  # Importing pandas library for data manipulation\n",
        "import numpy as np  # Importing numpy library for numerical computations\n",
        "from tensorflow.keras.preprocessing.text import Tokenizer  # Importing Tokenizer for text preprocessing\n",
        "from tensorflow.keras.preprocessing.sequence import pad_sequences  # Importing pad_sequences for sequence padding\n",
        "from tensorflow.keras.utils import to_categorical  # Importing to_categorical for one-hot encoding\n",
        "from sklearn.preprocessing import LabelEncoder  # Importing LabelEncoder for label encoding\n",
        "from tensorflow.keras.models import Model  # Importing Model for defining neural network models\n",
        "from tensorflow.keras.layers import Input, Embedding, LSTM, Dense  # Importing layers for building neural networks"
      ]
    },
    {
      "cell_type": "markdown",
      "metadata": {
        "id": "RncHAdkTSCym"
      },
      "source": [
        "Loading the Dataset\n",
        "\n"
      ]
    },
    {
      "cell_type": "code",
      "execution_count": 3,
      "metadata": {
        "colab": {
          "base_uri": "https://localhost:8080/",
          "height": 206
        },
        "id": "zys7h9_RIaGo",
        "outputId": "8c62f1c7-e41a-41ef-8c1b-bdc05fc62c54"
      },
      "outputs": [
        {
          "data": {
            "text/html": [
              "<div>\n",
              "<style scoped>\n",
              "    .dataframe tbody tr th:only-of-type {\n",
              "        vertical-align: middle;\n",
              "    }\n",
              "\n",
              "    .dataframe tbody tr th {\n",
              "        vertical-align: top;\n",
              "    }\n",
              "\n",
              "    .dataframe thead th {\n",
              "        text-align: right;\n",
              "    }\n",
              "</style>\n",
              "<table border=\"1\" class=\"dataframe\">\n",
              "  <thead>\n",
              "    <tr style=\"text-align: right;\">\n",
              "      <th></th>\n",
              "      <th>Patient_Problem</th>\n",
              "      <th>Disease</th>\n",
              "      <th>Prescription</th>\n",
              "    </tr>\n",
              "  </thead>\n",
              "  <tbody>\n",
              "    <tr>\n",
              "      <th>0</th>\n",
              "      <td>Constant fatigue and muscle weakness, struggli...</td>\n",
              "      <td>Chronic Fatigue Syndrome</td>\n",
              "      <td>Cognitive behavioral therapy, graded exercise ...</td>\n",
              "    </tr>\n",
              "    <tr>\n",
              "      <th>1</th>\n",
              "      <td>Frequent severe migraines, sensitivity to ligh...</td>\n",
              "      <td>Migraine with Aura</td>\n",
              "      <td>Prescription triptans, avoid triggers like bri...</td>\n",
              "    </tr>\n",
              "    <tr>\n",
              "      <th>2</th>\n",
              "      <td>Sudden weight gain and feeling cold, especiall...</td>\n",
              "      <td>Hypothyroidism</td>\n",
              "      <td>Levothyroxine to regulate thyroid hormone levels.</td>\n",
              "    </tr>\n",
              "    <tr>\n",
              "      <th>3</th>\n",
              "      <td>High fever, sore throat, and swollen lymph nod...</td>\n",
              "      <td>Mononucleosis</td>\n",
              "      <td>Rest and hydration, ibuprofen for pain.</td>\n",
              "    </tr>\n",
              "    <tr>\n",
              "      <th>4</th>\n",
              "      <td>Excessive thirst and frequent urination, dry m...</td>\n",
              "      <td>Diabetes Mellitus</td>\n",
              "      <td>Insulin therapy and lifestyle changes.</td>\n",
              "    </tr>\n",
              "  </tbody>\n",
              "</table>\n",
              "</div>"
            ],
            "text/plain": [
              "                                     Patient_Problem  \\\n",
              "0  Constant fatigue and muscle weakness, struggli...   \n",
              "1  Frequent severe migraines, sensitivity to ligh...   \n",
              "2  Sudden weight gain and feeling cold, especiall...   \n",
              "3  High fever, sore throat, and swollen lymph nod...   \n",
              "4  Excessive thirst and frequent urination, dry m...   \n",
              "\n",
              "                    Disease                                       Prescription  \n",
              "0  Chronic Fatigue Syndrome  Cognitive behavioral therapy, graded exercise ...  \n",
              "1        Migraine with Aura  Prescription triptans, avoid triggers like bri...  \n",
              "2            Hypothyroidism  Levothyroxine to regulate thyroid hormone levels.  \n",
              "3             Mononucleosis            Rest and hydration, ibuprofen for pain.  \n",
              "4         Diabetes Mellitus             Insulin therapy and lifestyle changes.  "
            ]
          },
          "execution_count": 3,
          "metadata": {},
          "output_type": "execute_result"
        }
      ],
      "source": [
        "# Reading the medical data from a CSV file\n",
        "data = pd.read_csv('medical_data.csv')\n",
        "data.head()"
      ]
    },
    {
      "cell_type": "markdown",
      "metadata": {
        "id": "-K4UU1EDSAK6"
      },
      "source": [
        "Tokenizing and Sequencing Text Data\n",
        "\n"
      ]
    },
    {
      "cell_type": "markdown",
      "metadata": {
        "id": "oYHq_PNRYQF7"
      },
      "source": [
        "Before using medical data in a deep learning model, it needs to be preprocessed to ensure the model can understand it. Preprocessing steps often include:\n",
        "\n",
        "Text Tokenization: Converting textual data into sequences of numbers that the model can process.\n",
        "\n",
        "Padding Sequences: Making all sequences the same length by adding padding characters at the beginning or end of shorter sequences.\n",
        "\n",
        "Label Encoding: Converting categorical variables, such as disease names and medication names, into numerical labels."
      ]
    },
    {
      "cell_type": "markdown",
      "metadata": {
        "id": "pItiveCnYvHX"
      },
      "source": [
        "A ‘tokenizer’ variable is created to convert the textual data into sequences of integers. It only considers the top 5,000 words in the dataset in order to reduce the complexity. If the model encounters any out-of-vocabulary words during the training process then it will be replaced with the ‘<OOV>’ token."
      ]
    },
    {
      "cell_type": "code",
      "execution_count": 4,
      "metadata": {
        "id": "Vqs-RrAmIaJV"
      },
      "outputs": [],
      "source": [
        "# Initializing a Tokenizer object with a vocabulary size of 5000 and an out-of-vocabulary token\n",
        "\n",
        "tokenizer = Tokenizer(num_words=5000, oov_token=\"<OOV>\")\n",
        "\n",
        "# Fitting tokenizer on patient problems\n",
        "tokenizer.fit_on_texts(data['Patient_Problem'])\n",
        "# Converting text to sequences\n",
        "sequences = tokenizer.texts_to_sequences(data['Patient_Problem'])"
      ]
    },
    {
      "cell_type": "markdown",
      "metadata": {
        "id": "lDKTFn9OSJw8"
      },
      "source": [
        "Padding Sequences\n"
      ]
    },
    {
      "cell_type": "markdown",
      "metadata": {
        "id": "pN4MfqhWY0uX"
      },
      "source": [
        "Padding Sequences\n",
        "In order to make the input sequences have the same length, the code finds the longest sequence and pads all other sequences with zeros at the end (‘post’ padding) to match this sentence."
      ]
    },
    {
      "cell_type": "code",
      "execution_count": 5,
      "metadata": {
        "id": "IKQ6mjJSTfzl"
      },
      "outputs": [],
      "source": [
        "max_length = max(len(x) for x in sequences)  # Finding the maximum sequence length\n",
        "padded_sequences = pad_sequences(sequences, maxlen=max_length, padding='post')  # Padding sequences\n"
      ]
    },
    {
      "cell_type": "markdown",
      "metadata": {
        "id": "yr7QpY-SY4tf"
      },
      "source": [
        "Encoding the Labels and Converting them to Categorical\n",
        "We will encode the ‘Disease’ and ‘Prescription’ columns as integers. Then the integer-encoded labels are converted into binary class matrices."
      ]
    },
    {
      "cell_type": "code",
      "execution_count": 6,
      "metadata": {
        "id": "Vfwc0UtKIlqa"
      },
      "outputs": [],
      "source": [
        "# Encoding the labels\n",
        "label_encoder_disease = LabelEncoder()\n",
        "label_encoder_prescription = LabelEncoder()\n",
        "\n",
        "# Encoding disease and prescription labels\n",
        "disease_labels = label_encoder_disease.fit_transform(data['Disease'])\n",
        "prescription_labels = label_encoder_prescription.fit_transform(data['Prescription'])\n",
        "\n",
        "# Converting labels to categorical\n",
        "disease_labels_categorical = to_categorical(disease_labels)\n",
        "prescription_labels_categorical = to_categorical(prescription_labels)"
      ]
    },
    {
      "cell_type": "markdown",
      "metadata": {
        "id": "48sNva4TSU5u"
      },
      "source": [
        "Combining Labels into a Multi-label Target Variable\n"
      ]
    },
    {
      "cell_type": "markdown",
      "metadata": {
        "id": "rpf6vJ6VY-Rt"
      },
      "source": [
        "Combining Labels into a Multi-label Target Variable\n",
        "Finally, now we will stack the binary class matrices together to form a single multi-label target variable\n",
        "\n",
        "‘Y’. This allows the model to predict both ‘Disease‘ and ‘Prescription‘ from the patient’s problem"
      ]
    },
    {
      "cell_type": "code",
      "execution_count": 7,
      "metadata": {
        "id": "xxYM8hFxIltN"
      },
      "outputs": [],
      "source": [
        "# Concatenating disease and prescription labels\n",
        "\n",
        "Y = np.hstack((disease_labels_categorical, prescription_labels_categorical))\n"
      ]
    },
    {
      "cell_type": "markdown",
      "metadata": {
        "id": "Mu2loWHXSZaV"
      },
      "source": [
        "Model Building\n"
      ]
    },
    {
      "cell_type": "markdown",
      "metadata": {
        "id": "xHFn22R9ZHrb"
      },
      "source": [
        "Model Building\n",
        "Now, we will build the model using the LSTM and Sequential algorithm from TensorFlow. This model will learn from our preprocessed dataset to predict diseases based on patient symptoms.\n",
        "\n",
        "Defining Model Architecture\n",
        "We will use the ‘Model’ and ‘Input’ to define the model architecture, and ‘Embedding’ to convert the integer sequences into dense vectors of fixed size. We will use ‘Dense’ for output layers that make predictions."
      ]
    },
    {
      "cell_type": "code",
      "execution_count": 8,
      "metadata": {
        "id": "Sq78XWStUDe3"
      },
      "outputs": [
        {
          "name": "stdout",
          "output_type": "stream",
          "text": [
            "WARNING:tensorflow:From c:\\Users\\SCH 2\\AppData\\Local\\Programs\\Python\\Python311\\Lib\\site-packages\\keras\\src\\backend.py:1398: The name tf.executing_eagerly_outside_functions is deprecated. Please use tf.compat.v1.executing_eagerly_outside_functions instead.\n",
            "\n"
          ]
        }
      ],
      "source": [
        "input_layer = Input(shape=(max_length,))  # Defining input layer\n",
        "\n",
        "embedding = Embedding(input_dim=5000, output_dim=64)(input_layer)  # Adding an embedding layer\n",
        "lstm_layer = LSTM(64)(embedding)  # Adding LSTM layer\n",
        "\n",
        "# Output layer for disease prediction\n",
        "disease_output = Dense(len(label_encoder_disease.classes_), activation='softmax',\n",
        "                       name='disease_output')(lstm_layer)\n",
        "\n",
        "# Output layer for prescription prediction\n",
        "prescription_output = Dense(len(label_encoder_prescription.classes_),\n",
        "                            activation='softmax', name='prescription_output')(lstm_layer)"
      ]
    },
    {
      "cell_type": "markdown",
      "metadata": {
        "id": "SZTtkjBlScqH"
      },
      "source": [
        "Compiling the model\n",
        "\n"
      ]
    },
    {
      "cell_type": "markdown",
      "metadata": {
        "id": "8WAGxXCPZM8y"
      },
      "source": [
        "The model firstly have, an input layer that can handle sequences up to a certain length. Then there’s an embedding layer that turns the numbers into vectors. After that, there’s an LSTM layer that looks at the order of things, and finally, two dense layers that predict diseases and prescriptions using a softmax function for classification."
      ]
    },
    {
      "cell_type": "code",
      "execution_count": 9,
      "metadata": {
        "colab": {
          "base_uri": "https://localhost:8080/"
        },
        "id": "VU-hKf4cIaOt",
        "outputId": "dcd44aeb-1c5f-4cd5-cfd8-99ba170575eb"
      },
      "outputs": [
        {
          "name": "stdout",
          "output_type": "stream",
          "text": [
            "WARNING:tensorflow:From c:\\Users\\SCH 2\\AppData\\Local\\Programs\\Python\\Python311\\Lib\\site-packages\\keras\\src\\optimizers\\__init__.py:309: The name tf.train.Optimizer is deprecated. Please use tf.compat.v1.train.Optimizer instead.\n",
            "\n",
            "Model: \"model\"\n",
            "__________________________________________________________________________________________________\n",
            " Layer (type)                Output Shape                 Param #   Connected to                  \n",
            "==================================================================================================\n",
            " input_1 (InputLayer)        [(None, 17)]                 0         []                            \n",
            "                                                                                                  \n",
            " embedding (Embedding)       (None, 17, 64)               320000    ['input_1[0][0]']             \n",
            "                                                                                                  \n",
            " lstm (LSTM)                 (None, 64)                   33024     ['embedding[0][0]']           \n",
            "                                                                                                  \n",
            " disease_output (Dense)      (None, 178)                  11570     ['lstm[0][0]']                \n",
            "                                                                                                  \n",
            " prescription_output (Dense  (None, 388)                  25220     ['lstm[0][0]']                \n",
            " )                                                                                                \n",
            "                                                                                                  \n",
            "==================================================================================================\n",
            "Total params: 389814 (1.49 MB)\n",
            "Trainable params: 389814 (1.49 MB)\n",
            "Non-trainable params: 0 (0.00 Byte)\n",
            "__________________________________________________________________________________________________\n"
          ]
        }
      ],
      "source": [
        "# Defining the model with inputs and outputs\n",
        "\n",
        "model = Model(inputs=input_layer, outputs=[disease_output, prescription_output])\n",
        "\n",
        "# Compiling the model with appropriate loss functions and optimizers\n",
        "model.compile(\n",
        "    loss={'disease_output': 'categorical_crossentropy',\n",
        "    'prescription_output': 'categorical_crossentropy'},\n",
        "    optimizer='adam',\n",
        "    metrics={'disease_output': ['accuracy'], 'prescription_output': ['accuracy']}\n",
        ")\n",
        "\n",
        "# Printing model summary\n",
        "\n",
        "model.summary()\n"
      ]
    },
    {
      "cell_type": "markdown",
      "metadata": {
        "id": "uJK73GVeSgQC"
      },
      "source": [
        "Training the model\n",
        "\n"
      ]
    },
    {
      "cell_type": "code",
      "execution_count": 10,
      "metadata": {
        "colab": {
          "base_uri": "https://localhost:8080/"
        },
        "id": "191sgLL8IaQ5",
        "outputId": "4103e725-6073-45bd-b382-40337e621fe6"
      },
      "outputs": [
        {
          "name": "stdout",
          "output_type": "stream",
          "text": [
            "Epoch 1/100\n",
            "WARNING:tensorflow:From c:\\Users\\SCH 2\\AppData\\Local\\Programs\\Python\\Python311\\Lib\\site-packages\\keras\\src\\engine\\base_layer_utils.py:384: The name tf.executing_eagerly_outside_functions is deprecated. Please use tf.compat.v1.executing_eagerly_outside_functions instead.\n",
            "\n",
            "WARNING:tensorflow:From c:\\Users\\SCH 2\\AppData\\Local\\Programs\\Python\\Python311\\Lib\\site-packages\\keras\\src\\utils\\tf_utils.py:492: The name tf.ragged.RaggedTensorValue is deprecated. Please use tf.compat.v1.ragged.RaggedTensorValue instead.\n",
            "\n",
            "13/13 [==============================] - 9s 38ms/step - loss: 11.1468 - disease_output_loss: 5.1811 - prescription_output_loss: 5.9657 - disease_output_accuracy: 0.0098 - prescription_output_accuracy: 0.0000e+00\n",
            "Epoch 2/100\n",
            "13/13 [==============================] - 1s 39ms/step - loss: 11.1276 - disease_output_loss: 5.1653 - prescription_output_loss: 5.9622 - disease_output_accuracy: 0.0319 - prescription_output_accuracy: 0.0025\n",
            "Epoch 3/100\n",
            "13/13 [==============================] - 1s 54ms/step - loss: 11.0996 - disease_output_loss: 5.1358 - prescription_output_loss: 5.9638 - disease_output_accuracy: 0.0270 - prescription_output_accuracy: 0.0025\n",
            "Epoch 4/100\n",
            "13/13 [==============================] - 1s 47ms/step - loss: 11.0163 - disease_output_loss: 5.0263 - prescription_output_loss: 5.9900 - disease_output_accuracy: 0.0270 - prescription_output_accuracy: 0.0098\n",
            "Epoch 5/100\n",
            "13/13 [==============================] - 1s 42ms/step - loss: 10.8969 - disease_output_loss: 4.9170 - prescription_output_loss: 5.9799 - disease_output_accuracy: 0.0270 - prescription_output_accuracy: 0.0147\n",
            "Epoch 6/100\n",
            "13/13 [==============================] - 1s 44ms/step - loss: 10.7683 - disease_output_loss: 4.8252 - prescription_output_loss: 5.9430 - disease_output_accuracy: 0.0344 - prescription_output_accuracy: 0.0147\n",
            "Epoch 7/100\n",
            "13/13 [==============================] - 1s 42ms/step - loss: 10.5396 - disease_output_loss: 4.6584 - prescription_output_loss: 5.8811 - disease_output_accuracy: 0.0491 - prescription_output_accuracy: 0.0172\n",
            "Epoch 8/100\n",
            "13/13 [==============================] - 1s 39ms/step - loss: 10.2848 - disease_output_loss: 4.5018 - prescription_output_loss: 5.7830 - disease_output_accuracy: 0.0762 - prescription_output_accuracy: 0.0197\n",
            "Epoch 9/100\n",
            "13/13 [==============================] - 1s 40ms/step - loss: 10.0306 - disease_output_loss: 4.3462 - prescription_output_loss: 5.6844 - disease_output_accuracy: 0.0688 - prescription_output_accuracy: 0.0221\n",
            "Epoch 10/100\n",
            "13/13 [==============================] - 1s 44ms/step - loss: 9.7738 - disease_output_loss: 4.2090 - prescription_output_loss: 5.5649 - disease_output_accuracy: 0.0835 - prescription_output_accuracy: 0.0197\n",
            "Epoch 11/100\n",
            "13/13 [==============================] - 1s 50ms/step - loss: 9.5641 - disease_output_loss: 4.1090 - prescription_output_loss: 5.4552 - disease_output_accuracy: 0.0958 - prescription_output_accuracy: 0.0246\n",
            "Epoch 12/100\n",
            "13/13 [==============================] - 1s 51ms/step - loss: 9.3355 - disease_output_loss: 3.9812 - prescription_output_loss: 5.3543 - disease_output_accuracy: 0.1106 - prescription_output_accuracy: 0.0246\n",
            "Epoch 13/100\n",
            "13/13 [==============================] - 1s 43ms/step - loss: 9.1500 - disease_output_loss: 3.8898 - prescription_output_loss: 5.2602 - disease_output_accuracy: 0.1253 - prescription_output_accuracy: 0.0295\n",
            "Epoch 14/100\n",
            "13/13 [==============================] - 1s 47ms/step - loss: 8.9602 - disease_output_loss: 3.7933 - prescription_output_loss: 5.1668 - disease_output_accuracy: 0.1302 - prescription_output_accuracy: 0.0295\n",
            "Epoch 15/100\n",
            "13/13 [==============================] - 1s 68ms/step - loss: 8.7588 - disease_output_loss: 3.6852 - prescription_output_loss: 5.0736 - disease_output_accuracy: 0.1622 - prescription_output_accuracy: 0.0295\n",
            "Epoch 16/100\n",
            "13/13 [==============================] - 1s 46ms/step - loss: 8.5403 - disease_output_loss: 3.5731 - prescription_output_loss: 4.9671 - disease_output_accuracy: 0.1794 - prescription_output_accuracy: 0.0442\n",
            "Epoch 17/100\n",
            "13/13 [==============================] - 1s 64ms/step - loss: 8.3317 - disease_output_loss: 3.4730 - prescription_output_loss: 4.8587 - disease_output_accuracy: 0.1769 - prescription_output_accuracy: 0.0491\n",
            "Epoch 18/100\n",
            "13/13 [==============================] - 1s 57ms/step - loss: 8.1270 - disease_output_loss: 3.3650 - prescription_output_loss: 4.7620 - disease_output_accuracy: 0.2088 - prescription_output_accuracy: 0.0565\n",
            "Epoch 19/100\n",
            "13/13 [==============================] - 1s 108ms/step - loss: 7.9122 - disease_output_loss: 3.2539 - prescription_output_loss: 4.6583 - disease_output_accuracy: 0.2285 - prescription_output_accuracy: 0.0786\n",
            "Epoch 20/100\n",
            "13/13 [==============================] - 1s 51ms/step - loss: 7.7030 - disease_output_loss: 3.1585 - prescription_output_loss: 4.5445 - disease_output_accuracy: 0.2604 - prescription_output_accuracy: 0.0786\n",
            "Epoch 21/100\n",
            "13/13 [==============================] - 1s 65ms/step - loss: 7.5605 - disease_output_loss: 3.0938 - prescription_output_loss: 4.4667 - disease_output_accuracy: 0.2801 - prescription_output_accuracy: 0.0958\n",
            "Epoch 22/100\n",
            "13/13 [==============================] - 1s 79ms/step - loss: 7.3940 - disease_output_loss: 3.0194 - prescription_output_loss: 4.3746 - disease_output_accuracy: 0.2875 - prescription_output_accuracy: 0.0909\n",
            "Epoch 23/100\n",
            "13/13 [==============================] - 1s 64ms/step - loss: 7.2445 - disease_output_loss: 2.9387 - prescription_output_loss: 4.3059 - disease_output_accuracy: 0.2998 - prescription_output_accuracy: 0.0983\n",
            "Epoch 24/100\n",
            "13/13 [==============================] - 1s 49ms/step - loss: 7.1390 - disease_output_loss: 2.8930 - prescription_output_loss: 4.2460 - disease_output_accuracy: 0.2899 - prescription_output_accuracy: 0.1106\n",
            "Epoch 25/100\n",
            "13/13 [==============================] - 1s 48ms/step - loss: 6.9301 - disease_output_loss: 2.7944 - prescription_output_loss: 4.1357 - disease_output_accuracy: 0.3366 - prescription_output_accuracy: 0.1302\n",
            "Epoch 26/100\n",
            "13/13 [==============================] - 1s 56ms/step - loss: 6.7753 - disease_output_loss: 2.7192 - prescription_output_loss: 4.0561 - disease_output_accuracy: 0.3342 - prescription_output_accuracy: 0.1229\n",
            "Epoch 27/100\n",
            "13/13 [==============================] - 1s 51ms/step - loss: 6.6621 - disease_output_loss: 2.6641 - prescription_output_loss: 3.9980 - disease_output_accuracy: 0.3710 - prescription_output_accuracy: 0.1376\n",
            "Epoch 28/100\n",
            "13/13 [==============================] - 1s 44ms/step - loss: 6.4751 - disease_output_loss: 2.5689 - prescription_output_loss: 3.9063 - disease_output_accuracy: 0.3857 - prescription_output_accuracy: 0.1425\n",
            "Epoch 29/100\n",
            "13/13 [==============================] - 1s 36ms/step - loss: 6.3357 - disease_output_loss: 2.5063 - prescription_output_loss: 3.8294 - disease_output_accuracy: 0.3956 - prescription_output_accuracy: 0.1843\n",
            "Epoch 30/100\n",
            "13/13 [==============================] - 1s 42ms/step - loss: 6.2077 - disease_output_loss: 2.4509 - prescription_output_loss: 3.7568 - disease_output_accuracy: 0.3931 - prescription_output_accuracy: 0.1622\n",
            "Epoch 31/100\n",
            "13/13 [==============================] - 1s 43ms/step - loss: 6.0706 - disease_output_loss: 2.3773 - prescription_output_loss: 3.6933 - disease_output_accuracy: 0.4103 - prescription_output_accuracy: 0.1990\n",
            "Epoch 32/100\n",
            "13/13 [==============================] - 1s 63ms/step - loss: 5.9518 - disease_output_loss: 2.3181 - prescription_output_loss: 3.6338 - disease_output_accuracy: 0.4226 - prescription_output_accuracy: 0.2236\n",
            "Epoch 33/100\n",
            "13/13 [==============================] - 1s 40ms/step - loss: 5.8360 - disease_output_loss: 2.2683 - prescription_output_loss: 3.5676 - disease_output_accuracy: 0.4251 - prescription_output_accuracy: 0.2334\n",
            "Epoch 34/100\n",
            "13/13 [==============================] - 1s 46ms/step - loss: 5.7564 - disease_output_loss: 2.2426 - prescription_output_loss: 3.5138 - disease_output_accuracy: 0.4472 - prescription_output_accuracy: 0.2359\n",
            "Epoch 35/100\n",
            "13/13 [==============================] - 1s 43ms/step - loss: 5.6926 - disease_output_loss: 2.2107 - prescription_output_loss: 3.4819 - disease_output_accuracy: 0.4496 - prescription_output_accuracy: 0.2629\n",
            "Epoch 36/100\n",
            "13/13 [==============================] - 1s 55ms/step - loss: 5.5863 - disease_output_loss: 2.1610 - prescription_output_loss: 3.4253 - disease_output_accuracy: 0.4496 - prescription_output_accuracy: 0.2482\n",
            "Epoch 37/100\n",
            "13/13 [==============================] - 1s 41ms/step - loss: 5.5342 - disease_output_loss: 2.1331 - prescription_output_loss: 3.4010 - disease_output_accuracy: 0.4619 - prescription_output_accuracy: 0.2555\n",
            "Epoch 38/100\n",
            "13/13 [==============================] - 1s 45ms/step - loss: 5.4178 - disease_output_loss: 2.0928 - prescription_output_loss: 3.3250 - disease_output_accuracy: 0.4619 - prescription_output_accuracy: 0.2727\n",
            "Epoch 39/100\n",
            "13/13 [==============================] - 1s 38ms/step - loss: 5.3309 - disease_output_loss: 2.0311 - prescription_output_loss: 3.2998 - disease_output_accuracy: 0.5061 - prescription_output_accuracy: 0.2899\n",
            "Epoch 40/100\n",
            "13/13 [==============================] - 1s 46ms/step - loss: 5.2399 - disease_output_loss: 1.9924 - prescription_output_loss: 3.2475 - disease_output_accuracy: 0.5061 - prescription_output_accuracy: 0.3022\n",
            "Epoch 41/100\n",
            "13/13 [==============================] - 1s 44ms/step - loss: 5.1653 - disease_output_loss: 1.9688 - prescription_output_loss: 3.1965 - disease_output_accuracy: 0.4889 - prescription_output_accuracy: 0.2875\n",
            "Epoch 42/100\n",
            "13/13 [==============================] - 1s 50ms/step - loss: 5.0535 - disease_output_loss: 1.9125 - prescription_output_loss: 3.1409 - disease_output_accuracy: 0.5258 - prescription_output_accuracy: 0.2973\n",
            "Epoch 43/100\n",
            "13/13 [==============================] - 1s 44ms/step - loss: 5.0256 - disease_output_loss: 1.8981 - prescription_output_loss: 3.1275 - disease_output_accuracy: 0.5307 - prescription_output_accuracy: 0.3120\n",
            "Epoch 44/100\n",
            "13/13 [==============================] - 1s 57ms/step - loss: 4.9040 - disease_output_loss: 1.8414 - prescription_output_loss: 3.0626 - disease_output_accuracy: 0.5283 - prescription_output_accuracy: 0.3194\n",
            "Epoch 45/100\n",
            "13/13 [==============================] - 1s 38ms/step - loss: 4.8100 - disease_output_loss: 1.7940 - prescription_output_loss: 3.0160 - disease_output_accuracy: 0.5430 - prescription_output_accuracy: 0.3735\n",
            "Epoch 46/100\n",
            "13/13 [==============================] - 1s 41ms/step - loss: 4.7268 - disease_output_loss: 1.7503 - prescription_output_loss: 2.9765 - disease_output_accuracy: 0.5848 - prescription_output_accuracy: 0.3317\n",
            "Epoch 47/100\n",
            "13/13 [==============================] - 1s 42ms/step - loss: 4.6908 - disease_output_loss: 1.7481 - prescription_output_loss: 2.9427 - disease_output_accuracy: 0.5405 - prescription_output_accuracy: 0.3489\n",
            "Epoch 48/100\n",
            "13/13 [==============================] - 1s 44ms/step - loss: 4.6245 - disease_output_loss: 1.7113 - prescription_output_loss: 2.9132 - disease_output_accuracy: 0.5700 - prescription_output_accuracy: 0.3759\n",
            "Epoch 49/100\n",
            "13/13 [==============================] - 1s 48ms/step - loss: 4.5932 - disease_output_loss: 1.7092 - prescription_output_loss: 2.8840 - disease_output_accuracy: 0.5577 - prescription_output_accuracy: 0.3759\n",
            "Epoch 50/100\n",
            "13/13 [==============================] - 1s 73ms/step - loss: 4.5197 - disease_output_loss: 1.6641 - prescription_output_loss: 2.8556 - disease_output_accuracy: 0.5799 - prescription_output_accuracy: 0.3857\n",
            "Epoch 51/100\n",
            "13/13 [==============================] - 1s 76ms/step - loss: 4.4606 - disease_output_loss: 1.6439 - prescription_output_loss: 2.8167 - disease_output_accuracy: 0.5897 - prescription_output_accuracy: 0.3735\n",
            "Epoch 52/100\n",
            "13/13 [==============================] - 1s 44ms/step - loss: 4.4146 - disease_output_loss: 1.6232 - prescription_output_loss: 2.7915 - disease_output_accuracy: 0.5971 - prescription_output_accuracy: 0.3882\n",
            "Epoch 53/100\n",
            "13/13 [==============================] - 1s 53ms/step - loss: 4.3708 - disease_output_loss: 1.6109 - prescription_output_loss: 2.7599 - disease_output_accuracy: 0.5872 - prescription_output_accuracy: 0.3833\n",
            "Epoch 54/100\n",
            "13/13 [==============================] - 1s 44ms/step - loss: 4.2983 - disease_output_loss: 1.5737 - prescription_output_loss: 2.7246 - disease_output_accuracy: 0.6093 - prescription_output_accuracy: 0.4054\n",
            "Epoch 55/100\n",
            "13/13 [==============================] - 1s 40ms/step - loss: 4.2585 - disease_output_loss: 1.5591 - prescription_output_loss: 2.6993 - disease_output_accuracy: 0.6192 - prescription_output_accuracy: 0.4079\n",
            "Epoch 56/100\n",
            "13/13 [==============================] - 1s 45ms/step - loss: 4.1683 - disease_output_loss: 1.5176 - prescription_output_loss: 2.6506 - disease_output_accuracy: 0.6167 - prescription_output_accuracy: 0.4251\n",
            "Epoch 57/100\n",
            "13/13 [==============================] - 1s 40ms/step - loss: 4.0911 - disease_output_loss: 1.4759 - prescription_output_loss: 2.6153 - disease_output_accuracy: 0.6314 - prescription_output_accuracy: 0.4423\n",
            "Epoch 58/100\n",
            "13/13 [==============================] - 1s 51ms/step - loss: 4.1190 - disease_output_loss: 1.5045 - prescription_output_loss: 2.6144 - disease_output_accuracy: 0.5971 - prescription_output_accuracy: 0.4373\n",
            "Epoch 59/100\n",
            "13/13 [==============================] - 1s 56ms/step - loss: 4.0351 - disease_output_loss: 1.4570 - prescription_output_loss: 2.5781 - disease_output_accuracy: 0.6314 - prescription_output_accuracy: 0.4226\n",
            "Epoch 60/100\n",
            "13/13 [==============================] - 1s 47ms/step - loss: 4.0255 - disease_output_loss: 1.4543 - prescription_output_loss: 2.5712 - disease_output_accuracy: 0.6290 - prescription_output_accuracy: 0.4521\n",
            "Epoch 61/100\n",
            "13/13 [==============================] - 1s 44ms/step - loss: 3.9477 - disease_output_loss: 1.4099 - prescription_output_loss: 2.5378 - disease_output_accuracy: 0.6511 - prescription_output_accuracy: 0.4447\n",
            "Epoch 62/100\n",
            "13/13 [==============================] - 1s 46ms/step - loss: 3.9099 - disease_output_loss: 1.3965 - prescription_output_loss: 2.5134 - disease_output_accuracy: 0.6462 - prescription_output_accuracy: 0.4398\n",
            "Epoch 63/100\n",
            "13/13 [==============================] - 1s 40ms/step - loss: 3.8623 - disease_output_loss: 1.3718 - prescription_output_loss: 2.4906 - disease_output_accuracy: 0.6658 - prescription_output_accuracy: 0.4595\n",
            "Epoch 64/100\n",
            "13/13 [==============================] - 1s 62ms/step - loss: 3.8122 - disease_output_loss: 1.3651 - prescription_output_loss: 2.4472 - disease_output_accuracy: 0.6609 - prescription_output_accuracy: 0.4742\n",
            "Epoch 65/100\n",
            "13/13 [==============================] - 1s 44ms/step - loss: 3.7815 - disease_output_loss: 1.3411 - prescription_output_loss: 2.4404 - disease_output_accuracy: 0.6830 - prescription_output_accuracy: 0.4472\n",
            "Epoch 66/100\n",
            "13/13 [==============================] - 1s 40ms/step - loss: 3.6584 - disease_output_loss: 1.2822 - prescription_output_loss: 2.3762 - disease_output_accuracy: 0.7002 - prescription_output_accuracy: 0.4840\n",
            "Epoch 67/100\n",
            "13/13 [==============================] - 1s 50ms/step - loss: 3.5920 - disease_output_loss: 1.2505 - prescription_output_loss: 2.3415 - disease_output_accuracy: 0.7224 - prescription_output_accuracy: 0.5111\n",
            "Epoch 68/100\n",
            "13/13 [==============================] - 1s 54ms/step - loss: 3.5067 - disease_output_loss: 1.2145 - prescription_output_loss: 2.2922 - disease_output_accuracy: 0.7150 - prescription_output_accuracy: 0.5233\n",
            "Epoch 69/100\n",
            "13/13 [==============================] - 1s 55ms/step - loss: 3.4566 - disease_output_loss: 1.1947 - prescription_output_loss: 2.2620 - disease_output_accuracy: 0.7518 - prescription_output_accuracy: 0.5553\n",
            "Epoch 70/100\n",
            "13/13 [==============================] - 1s 46ms/step - loss: 3.4105 - disease_output_loss: 1.1701 - prescription_output_loss: 2.2404 - disease_output_accuracy: 0.7617 - prescription_output_accuracy: 0.5504\n",
            "Epoch 71/100\n",
            "13/13 [==============================] - 1s 53ms/step - loss: 3.3505 - disease_output_loss: 1.1409 - prescription_output_loss: 2.2096 - disease_output_accuracy: 0.7568 - prescription_output_accuracy: 0.5700\n",
            "Epoch 72/100\n",
            "13/13 [==============================] - 1s 40ms/step - loss: 3.2962 - disease_output_loss: 1.1185 - prescription_output_loss: 2.1776 - disease_output_accuracy: 0.7690 - prescription_output_accuracy: 0.5504\n",
            "Epoch 73/100\n",
            "13/13 [==============================] - 1s 38ms/step - loss: 3.2445 - disease_output_loss: 1.0914 - prescription_output_loss: 2.1531 - disease_output_accuracy: 0.7764 - prescription_output_accuracy: 0.5676\n",
            "Epoch 74/100\n",
            "13/13 [==============================] - 1s 49ms/step - loss: 3.2160 - disease_output_loss: 1.0814 - prescription_output_loss: 2.1345 - disease_output_accuracy: 0.7862 - prescription_output_accuracy: 0.5823\n",
            "Epoch 75/100\n",
            "13/13 [==============================] - 1s 42ms/step - loss: 3.1798 - disease_output_loss: 1.0698 - prescription_output_loss: 2.1100 - disease_output_accuracy: 0.7789 - prescription_output_accuracy: 0.5921\n",
            "Epoch 76/100\n",
            "13/13 [==============================] - 1s 38ms/step - loss: 3.1475 - disease_output_loss: 1.0513 - prescription_output_loss: 2.0962 - disease_output_accuracy: 0.7862 - prescription_output_accuracy: 0.5872\n",
            "Epoch 77/100\n",
            "13/13 [==============================] - 1s 65ms/step - loss: 3.1265 - disease_output_loss: 1.0417 - prescription_output_loss: 2.0848 - disease_output_accuracy: 0.7813 - prescription_output_accuracy: 0.5700\n",
            "Epoch 78/100\n",
            "13/13 [==============================] - 1s 45ms/step - loss: 3.2126 - disease_output_loss: 1.0909 - prescription_output_loss: 2.1217 - disease_output_accuracy: 0.7740 - prescription_output_accuracy: 0.5553\n",
            "Epoch 79/100\n",
            "13/13 [==============================] - 1s 40ms/step - loss: 3.2937 - disease_output_loss: 1.1315 - prescription_output_loss: 2.1622 - disease_output_accuracy: 0.7543 - prescription_output_accuracy: 0.5184\n",
            "Epoch 80/100\n",
            "13/13 [==============================] - 1s 42ms/step - loss: 3.2559 - disease_output_loss: 1.1127 - prescription_output_loss: 2.1431 - disease_output_accuracy: 0.7445 - prescription_output_accuracy: 0.5184\n",
            "Epoch 81/100\n",
            "13/13 [==============================] - 1s 41ms/step - loss: 3.1664 - disease_output_loss: 1.0720 - prescription_output_loss: 2.0944 - disease_output_accuracy: 0.7690 - prescription_output_accuracy: 0.5405\n",
            "Epoch 82/100\n",
            "13/13 [==============================] - 1s 41ms/step - loss: 3.1149 - disease_output_loss: 1.0489 - prescription_output_loss: 2.0660 - disease_output_accuracy: 0.7740 - prescription_output_accuracy: 0.5356\n",
            "Epoch 83/100\n",
            "13/13 [==============================] - 1s 45ms/step - loss: 3.0856 - disease_output_loss: 1.0439 - prescription_output_loss: 2.0417 - disease_output_accuracy: 0.7690 - prescription_output_accuracy: 0.5332\n",
            "Epoch 84/100\n",
            "13/13 [==============================] - 1s 45ms/step - loss: 3.0135 - disease_output_loss: 1.0017 - prescription_output_loss: 2.0119 - disease_output_accuracy: 0.7887 - prescription_output_accuracy: 0.5651\n",
            "Epoch 85/100\n",
            "13/13 [==============================] - 1s 52ms/step - loss: 3.0619 - disease_output_loss: 1.0263 - prescription_output_loss: 2.0356 - disease_output_accuracy: 0.7715 - prescription_output_accuracy: 0.5528\n",
            "Epoch 86/100\n",
            "13/13 [==============================] - 1s 58ms/step - loss: 3.0792 - disease_output_loss: 1.0353 - prescription_output_loss: 2.0439 - disease_output_accuracy: 0.7813 - prescription_output_accuracy: 0.5455\n",
            "Epoch 87/100\n",
            "13/13 [==============================] - 1s 71ms/step - loss: 3.0795 - disease_output_loss: 1.0387 - prescription_output_loss: 2.0408 - disease_output_accuracy: 0.7543 - prescription_output_accuracy: 0.5258\n",
            "Epoch 88/100\n",
            "13/13 [==============================] - 1s 59ms/step - loss: 3.0042 - disease_output_loss: 1.0052 - prescription_output_loss: 1.9990 - disease_output_accuracy: 0.7715 - prescription_output_accuracy: 0.5332\n",
            "Epoch 89/100\n",
            "13/13 [==============================] - 1s 42ms/step - loss: 3.0284 - disease_output_loss: 1.0203 - prescription_output_loss: 2.0081 - disease_output_accuracy: 0.7568 - prescription_output_accuracy: 0.5504\n",
            "Epoch 90/100\n",
            "13/13 [==============================] - 1s 40ms/step - loss: 3.1247 - disease_output_loss: 1.0653 - prescription_output_loss: 2.0593 - disease_output_accuracy: 0.7518 - prescription_output_accuracy: 0.5258\n",
            "Epoch 91/100\n",
            "13/13 [==============================] - 1s 40ms/step - loss: 3.0024 - disease_output_loss: 1.0134 - prescription_output_loss: 1.9890 - disease_output_accuracy: 0.7666 - prescription_output_accuracy: 0.5209\n",
            "Epoch 92/100\n",
            "13/13 [==============================] - 1s 40ms/step - loss: 2.9009 - disease_output_loss: 0.9788 - prescription_output_loss: 1.9221 - disease_output_accuracy: 0.7764 - prescription_output_accuracy: 0.5627\n",
            "Epoch 93/100\n",
            "13/13 [==============================] - 1s 47ms/step - loss: 2.9167 - disease_output_loss: 0.9886 - prescription_output_loss: 1.9281 - disease_output_accuracy: 0.7666 - prescription_output_accuracy: 0.5577\n",
            "Epoch 94/100\n",
            "13/13 [==============================] - 1s 52ms/step - loss: 2.9004 - disease_output_loss: 0.9741 - prescription_output_loss: 1.9263 - disease_output_accuracy: 0.7887 - prescription_output_accuracy: 0.5553\n",
            "Epoch 95/100\n",
            "13/13 [==============================] - 1s 42ms/step - loss: 2.8075 - disease_output_loss: 0.9261 - prescription_output_loss: 1.8814 - disease_output_accuracy: 0.7936 - prescription_output_accuracy: 0.5749\n",
            "Epoch 96/100\n",
            "13/13 [==============================] - 1s 44ms/step - loss: 2.8257 - disease_output_loss: 0.9445 - prescription_output_loss: 1.8812 - disease_output_accuracy: 0.7912 - prescription_output_accuracy: 0.5405\n",
            "Epoch 97/100\n",
            "13/13 [==============================] - 1s 43ms/step - loss: 2.7830 - disease_output_loss: 0.9196 - prescription_output_loss: 1.8634 - disease_output_accuracy: 0.7838 - prescription_output_accuracy: 0.5627\n",
            "Epoch 98/100\n",
            "13/13 [==============================] - 1s 50ms/step - loss: 2.7119 - disease_output_loss: 0.8953 - prescription_output_loss: 1.8167 - disease_output_accuracy: 0.8059 - prescription_output_accuracy: 0.5946\n",
            "Epoch 99/100\n",
            "13/13 [==============================] - 1s 42ms/step - loss: 2.6290 - disease_output_loss: 0.8600 - prescription_output_loss: 1.7690 - disease_output_accuracy: 0.8108 - prescription_output_accuracy: 0.6020\n",
            "Epoch 100/100\n",
            "13/13 [==============================] - 1s 44ms/step - loss: 2.6365 - disease_output_loss: 0.8564 - prescription_output_loss: 1.7800 - disease_output_accuracy: 0.8182 - prescription_output_accuracy: 0.5971\n"
          ]
        },
        {
          "data": {
            "text/plain": [
              "<keras.src.callbacks.History at 0x1d603d28c50>"
            ]
          },
          "execution_count": 10,
          "metadata": {},
          "output_type": "execute_result"
        }
      ],
      "source": [
        "# Training the model\n",
        "\n",
        "model.fit(padded_sequences, {'disease_output': disease_labels_categorical, 'prescription_output':\n",
        "      prescription_labels_categorical}, epochs=100, batch_size=32)\n"
      ]
    },
    {
      "cell_type": "markdown",
      "metadata": {
        "id": "dxD5ZJ-VSjRL"
      },
      "source": [
        "Making Predictions\n"
      ]
    },
    {
      "cell_type": "markdown",
      "metadata": {
        "id": "iSrZrNq0SkyV"
      },
      "source": [
        "The model is used to make predictions for new patients:\n",
        "\n",
        "1-Pre-processed the patient’s symptoms by performing tokenization and padding.\n",
        "\n",
        "2-Feed the pre-processed data into the trained model.\n",
        "\n",
        "3-The model predicts the disease and medication based on the patient’s symptoms.\n",
        "\n",
        "4-The predicted disease and medication will be presented."
      ]
    },
    {
      "cell_type": "code",
      "execution_count": 11,
      "metadata": {
        "colab": {
          "base_uri": "https://localhost:8080/"
        },
        "id": "P4MemEqqIaUG",
        "outputId": "939607ef-786a-4a14-ff16-28e8b76a317c"
      },
      "outputs": [
        {
          "name": "stdout",
          "output_type": "stream",
          "text": [
            "1/1 [==============================] - 2s 2s/step\n",
            "Predicted Disease: Depression\n",
            "Suggested Prescription: Antidepressants; eating nutrient-rich foods.\n"
          ]
        }
      ],
      "source": [
        "# Function to make predictions based on patient problem input\n",
        "\n",
        "def make_prediction(patient_problem):\n",
        "    # Preprocessing the input\n",
        "    sequence = tokenizer.texts_to_sequences([patient_problem])\n",
        "    padded_sequence = pad_sequences(sequence, maxlen=max_length, padding='post')\n",
        "\n",
        "    # Making prediction\n",
        "    prediction = model.predict(padded_sequence)\n",
        "\n",
        "    # Decoding the prediction\n",
        "    disease_index = np.argmax(prediction[0], axis=1)[0]\n",
        "    prescription_index = np.argmax(prediction[1], axis=1)[0]\n",
        "\n",
        "    disease_predicted = label_encoder_disease.inverse_transform([disease_index])[0]\n",
        "    prescription_predicted = label_encoder_prescription.inverse_transform([prescription_index])[0]\n",
        "\n",
        "    # Printing the predicted disease and prescription\n",
        "\n",
        "    print(f\"Predicted Disease: {disease_predicted}\")\n",
        "    print(f\"Suggested Prescription: {prescription_predicted}\")\n",
        "\n",
        "\n",
        "\"\"\"I've experienced a loss of appetite and don't enjoy food anymore.\n",
        "Frequent severe migraines, sensitivity to light and sound.\n",
        "Sudden weight gain and feeling cold, especially in the hands and feet.\n",
        "High fever, sore throat, and swollen lymph nodes, feeling very weak.\n",
        "Sharp, stabbing chest pain that worsens when lying down or inhaling deeply.\n",
        "Unexplained weight loss and night sweats, feeling feverish.\n",
        "Severe abdominal pain radiating to the back, nausea without vomiting.\n",
        "Joint swelling and stiffness in the morning, especially in the fingers and wrists.\n",
        "Recurrent, painful blisters around the mouth and nose.\n",
        "Progressive difficulty swallowing, accompanied by heartburn.\n",
        "Chronic diarrhea, abdominal cramps, and gas.\n",
        "Yellowing of the skin and eyes, dark urine, and general fatigue.\"\"\"\n",
        "#patient_input = \"Constant fatigue and muscle weakness, struggling to stay awake.\"\n",
        "#make_prediction(patient_input)\n",
        "\n",
        "\n",
        "# Example input for patient problem\n",
        "\n",
        "patient_input = input(str())\n",
        "make_prediction(patient_input)"
      ]
    }
  ],
  "metadata": {
    "colab": {
      "provenance": []
    },
    "kernelspec": {
      "display_name": "Python 3",
      "name": "python3"
    },
    "language_info": {
      "codemirror_mode": {
        "name": "ipython",
        "version": 3
      },
      "file_extension": ".py",
      "mimetype": "text/x-python",
      "name": "python",
      "nbconvert_exporter": "python",
      "pygments_lexer": "ipython3",
      "version": "3.11.7"
    }
  },
  "nbformat": 4,
  "nbformat_minor": 0
}
